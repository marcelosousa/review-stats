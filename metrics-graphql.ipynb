{
 "cells": [
  {
   "cell_type": "code",
   "execution_count": 1,
   "id": "729cfc8c-c395-4b77-879d-31be3a895729",
   "metadata": {},
   "outputs": [],
   "source": [
    "import numpy as np\n",
    "import pandas as pd\n",
    "import matplotlib.pyplot as plt\n",
    "import matplotlib.dates as dt\n",
    "import json\n",
    "import datetime\n",
    "import seaborn as sns"
   ]
  },
  {
   "cell_type": "code",
   "execution_count": 2,
   "id": "4da90f7b-a3b3-4559-925e-dc62227830d3",
   "metadata": {},
   "outputs": [],
   "source": [
    "plt.rcParams.update({'figure.autolayout': True})\n",
    "plt.rcParams[\"figure.figsize\"] = (12,8)"
   ]
  },
  {
   "cell_type": "markdown",
   "id": "5af563f1-d94d-4e51-b0c4-c490a7d220d6",
   "metadata": {},
   "source": [
    "# Load and flatten json data into dataframe"
   ]
  },
  {
   "cell_type": "code",
   "execution_count": 3,
   "id": "1306f311-3a95-49fd-bbb2-727dacd1dbb2",
   "metadata": {},
   "outputs": [],
   "source": [
    "raw_data = pd.read_json(\"data/gh-atlas-18-08-2021.json\")"
   ]
  },
  {
   "cell_type": "code",
   "execution_count": 4,
   "id": "454456eb-ee6a-47f5-946c-47eab0b816bb",
   "metadata": {},
   "outputs": [],
   "source": [
    "df = pd.DataFrame(data=raw_data)"
   ]
  },
  {
   "cell_type": "code",
   "execution_count": 5,
   "id": "6436095c-6dc7-49dd-ac23-5ee64e3ec488",
   "metadata": {},
   "outputs": [
    {
     "data": {
      "text/html": [
       "<div>\n",
       "<style scoped>\n",
       "    .dataframe tbody tr th:only-of-type {\n",
       "        vertical-align: middle;\n",
       "    }\n",
       "\n",
       "    .dataframe tbody tr th {\n",
       "        vertical-align: top;\n",
       "    }\n",
       "\n",
       "    .dataframe thead th {\n",
       "        text-align: right;\n",
       "    }\n",
       "</style>\n",
       "<table border=\"1\" class=\"dataframe\">\n",
       "  <thead>\n",
       "    <tr style=\"text-align: right;\">\n",
       "      <th></th>\n",
       "      <th>id</th>\n",
       "      <th>number</th>\n",
       "      <th>title</th>\n",
       "      <th>state</th>\n",
       "      <th>isDraft</th>\n",
       "      <th>createdAt</th>\n",
       "      <th>merged</th>\n",
       "      <th>mergedAt</th>\n",
       "      <th>closed</th>\n",
       "      <th>closedAt</th>\n",
       "      <th>...</th>\n",
       "      <th>additions</th>\n",
       "      <th>deletions</th>\n",
       "      <th>changedFiles</th>\n",
       "      <th>baseRefName</th>\n",
       "      <th>headRefName</th>\n",
       "      <th>commits</th>\n",
       "      <th>author</th>\n",
       "      <th>comments</th>\n",
       "      <th>reviews</th>\n",
       "      <th>reviewRequests</th>\n",
       "    </tr>\n",
       "  </thead>\n",
       "  <tbody>\n",
       "    <tr>\n",
       "      <th>0</th>\n",
       "      <td>MDExOlB1bGxSZXF1ZXN0NDY3MjQ1Mzgx</td>\n",
       "      <td>3</td>\n",
       "      <td>Added TS service with architecture API</td>\n",
       "      <td>MERGED</td>\n",
       "      <td>False</td>\n",
       "      <td>2020-08-13T08:52:04Z</td>\n",
       "      <td>True</td>\n",
       "      <td>2020-08-13T08:55:32Z</td>\n",
       "      <td>True</td>\n",
       "      <td>2020-08-13T08:55:32Z</td>\n",
       "      <td>...</td>\n",
       "      <td>8822</td>\n",
       "      <td>1</td>\n",
       "      <td>40</td>\n",
       "      <td>master</td>\n",
       "      <td>ATLAS-1</td>\n",
       "      <td>{'totalCount': 2}</td>\n",
       "      <td>{'login': 'Xavier-explore-dev'}</td>\n",
       "      <td>{'totalCount': 0, 'nodes': []}</td>\n",
       "      <td>{'totalCount': 0, 'nodes': []}</td>\n",
       "      <td>{'totalCount': 2, 'nodes': [{'requestedReviewe...</td>\n",
       "    </tr>\n",
       "    <tr>\n",
       "      <th>1</th>\n",
       "      <td>MDExOlB1bGxSZXF1ZXN0NDY3MjQ1Nzk2</td>\n",
       "      <td>4</td>\n",
       "      <td>Basic project overview: communication between ...</td>\n",
       "      <td>MERGED</td>\n",
       "      <td>False</td>\n",
       "      <td>2020-08-13T08:52:50Z</td>\n",
       "      <td>True</td>\n",
       "      <td>2020-08-13T08:55:01Z</td>\n",
       "      <td>True</td>\n",
       "      <td>2020-08-13T08:55:01Z</td>\n",
       "      <td>...</td>\n",
       "      <td>385</td>\n",
       "      <td>0</td>\n",
       "      <td>11</td>\n",
       "      <td>master</td>\n",
       "      <td>atlas-2</td>\n",
       "      <td>{'totalCount': 2}</td>\n",
       "      <td>{'login': 'marcelosousa'}</td>\n",
       "      <td>{'totalCount': 0, 'nodes': []}</td>\n",
       "      <td>{'totalCount': 1, 'nodes': [{'createdAt': '202...</td>\n",
       "      <td>{'totalCount': 0, 'nodes': []}</td>\n",
       "    </tr>\n",
       "    <tr>\n",
       "      <th>2</th>\n",
       "      <td>MDExOlB1bGxSZXF1ZXN0NDY3NDQ5ODk5</td>\n",
       "      <td>10</td>\n",
       "      <td>Adds orchestrator service</td>\n",
       "      <td>MERGED</td>\n",
       "      <td>False</td>\n",
       "      <td>2020-08-13T15:11:45Z</td>\n",
       "      <td>True</td>\n",
       "      <td>2020-08-14T13:35:18Z</td>\n",
       "      <td>True</td>\n",
       "      <td>2020-08-14T13:35:18Z</td>\n",
       "      <td>...</td>\n",
       "      <td>395</td>\n",
       "      <td>73</td>\n",
       "      <td>15</td>\n",
       "      <td>master</td>\n",
       "      <td>ATLAS-6</td>\n",
       "      <td>{'totalCount': 4}</td>\n",
       "      <td>{'login': 'Xavier-explore-dev'}</td>\n",
       "      <td>{'totalCount': 0, 'nodes': []}</td>\n",
       "      <td>{'totalCount': 10, 'nodes': [{'createdAt': '20...</td>\n",
       "      <td>{'totalCount': 1, 'nodes': [{'requestedReviewe...</td>\n",
       "    </tr>\n",
       "    <tr>\n",
       "      <th>3</th>\n",
       "      <td>MDExOlB1bGxSZXF1ZXN0NDY3NDUxMjQz</td>\n",
       "      <td>11</td>\n",
       "      <td>Architecture endpoint</td>\n",
       "      <td>MERGED</td>\n",
       "      <td>False</td>\n",
       "      <td>2020-08-13T15:13:37Z</td>\n",
       "      <td>True</td>\n",
       "      <td>2020-08-14T13:40:24Z</td>\n",
       "      <td>True</td>\n",
       "      <td>2020-08-14T13:40:24Z</td>\n",
       "      <td>...</td>\n",
       "      <td>317</td>\n",
       "      <td>7</td>\n",
       "      <td>9</td>\n",
       "      <td>master</td>\n",
       "      <td>ATLAS-5</td>\n",
       "      <td>{'totalCount': 8}</td>\n",
       "      <td>{'login': 'Xavier-explore-dev'}</td>\n",
       "      <td>{'totalCount': 0, 'nodes': []}</td>\n",
       "      <td>{'totalCount': 0, 'nodes': []}</td>\n",
       "      <td>{'totalCount': 1, 'nodes': [{'requestedReviewe...</td>\n",
       "    </tr>\n",
       "    <tr>\n",
       "      <th>4</th>\n",
       "      <td>MDExOlB1bGxSZXF1ZXN0NDY3NDcwNDA1</td>\n",
       "      <td>12</td>\n",
       "      <td>Add basic data structures to Atlas core</td>\n",
       "      <td>MERGED</td>\n",
       "      <td>False</td>\n",
       "      <td>2020-08-13T15:45:26Z</td>\n",
       "      <td>True</td>\n",
       "      <td>2020-08-13T17:38:50Z</td>\n",
       "      <td>True</td>\n",
       "      <td>2020-08-13T17:38:51Z</td>\n",
       "      <td>...</td>\n",
       "      <td>184</td>\n",
       "      <td>0</td>\n",
       "      <td>5</td>\n",
       "      <td>master</td>\n",
       "      <td>ATLAS-7</td>\n",
       "      <td>{'totalCount': 5}</td>\n",
       "      <td>{'login': 'ruimiguelsantos'}</td>\n",
       "      <td>{'totalCount': 0, 'nodes': []}</td>\n",
       "      <td>{'totalCount': 2, 'nodes': [{'createdAt': '202...</td>\n",
       "      <td>{'totalCount': 0, 'nodes': []}</td>\n",
       "    </tr>\n",
       "  </tbody>\n",
       "</table>\n",
       "<p>5 rows × 21 columns</p>\n",
       "</div>"
      ],
      "text/plain": [
       "                                 id  number  \\\n",
       "0  MDExOlB1bGxSZXF1ZXN0NDY3MjQ1Mzgx       3   \n",
       "1  MDExOlB1bGxSZXF1ZXN0NDY3MjQ1Nzk2       4   \n",
       "2  MDExOlB1bGxSZXF1ZXN0NDY3NDQ5ODk5      10   \n",
       "3  MDExOlB1bGxSZXF1ZXN0NDY3NDUxMjQz      11   \n",
       "4  MDExOlB1bGxSZXF1ZXN0NDY3NDcwNDA1      12   \n",
       "\n",
       "                                               title   state  isDraft  \\\n",
       "0             Added TS service with architecture API  MERGED    False   \n",
       "1  Basic project overview: communication between ...  MERGED    False   \n",
       "2                          Adds orchestrator service  MERGED    False   \n",
       "3                              Architecture endpoint  MERGED    False   \n",
       "4            Add basic data structures to Atlas core  MERGED    False   \n",
       "\n",
       "              createdAt  merged              mergedAt  closed  \\\n",
       "0  2020-08-13T08:52:04Z    True  2020-08-13T08:55:32Z    True   \n",
       "1  2020-08-13T08:52:50Z    True  2020-08-13T08:55:01Z    True   \n",
       "2  2020-08-13T15:11:45Z    True  2020-08-14T13:35:18Z    True   \n",
       "3  2020-08-13T15:13:37Z    True  2020-08-14T13:40:24Z    True   \n",
       "4  2020-08-13T15:45:26Z    True  2020-08-13T17:38:50Z    True   \n",
       "\n",
       "               closedAt  ... additions  deletions  changedFiles  baseRefName  \\\n",
       "0  2020-08-13T08:55:32Z  ...      8822          1            40       master   \n",
       "1  2020-08-13T08:55:01Z  ...       385          0            11       master   \n",
       "2  2020-08-14T13:35:18Z  ...       395         73            15       master   \n",
       "3  2020-08-14T13:40:24Z  ...       317          7             9       master   \n",
       "4  2020-08-13T17:38:51Z  ...       184          0             5       master   \n",
       "\n",
       "  headRefName            commits                           author  \\\n",
       "0     ATLAS-1  {'totalCount': 2}  {'login': 'Xavier-explore-dev'}   \n",
       "1     atlas-2  {'totalCount': 2}        {'login': 'marcelosousa'}   \n",
       "2     ATLAS-6  {'totalCount': 4}  {'login': 'Xavier-explore-dev'}   \n",
       "3     ATLAS-5  {'totalCount': 8}  {'login': 'Xavier-explore-dev'}   \n",
       "4     ATLAS-7  {'totalCount': 5}     {'login': 'ruimiguelsantos'}   \n",
       "\n",
       "                         comments  \\\n",
       "0  {'totalCount': 0, 'nodes': []}   \n",
       "1  {'totalCount': 0, 'nodes': []}   \n",
       "2  {'totalCount': 0, 'nodes': []}   \n",
       "3  {'totalCount': 0, 'nodes': []}   \n",
       "4  {'totalCount': 0, 'nodes': []}   \n",
       "\n",
       "                                             reviews  \\\n",
       "0                     {'totalCount': 0, 'nodes': []}   \n",
       "1  {'totalCount': 1, 'nodes': [{'createdAt': '202...   \n",
       "2  {'totalCount': 10, 'nodes': [{'createdAt': '20...   \n",
       "3                     {'totalCount': 0, 'nodes': []}   \n",
       "4  {'totalCount': 2, 'nodes': [{'createdAt': '202...   \n",
       "\n",
       "                                      reviewRequests  \n",
       "0  {'totalCount': 2, 'nodes': [{'requestedReviewe...  \n",
       "1                     {'totalCount': 0, 'nodes': []}  \n",
       "2  {'totalCount': 1, 'nodes': [{'requestedReviewe...  \n",
       "3  {'totalCount': 1, 'nodes': [{'requestedReviewe...  \n",
       "4                     {'totalCount': 0, 'nodes': []}  \n",
       "\n",
       "[5 rows x 21 columns]"
      ]
     },
     "execution_count": 5,
     "metadata": {},
     "output_type": "execute_result"
    }
   ],
   "source": [
    "df.head()"
   ]
  },
  {
   "cell_type": "code",
   "execution_count": 6,
   "id": "4ad15750-2b23-4445-aa06-fb8546756b12",
   "metadata": {},
   "outputs": [
    {
     "data": {
      "text/plain": [
       "448"
      ]
     },
     "execution_count": 6,
     "metadata": {},
     "output_type": "execute_result"
    }
   ],
   "source": [
    "len(df)"
   ]
  },
  {
   "cell_type": "code",
   "execution_count": 7,
   "id": "a92b2eae-7ac0-44f5-8ca6-d3c25b462bad",
   "metadata": {},
   "outputs": [
    {
     "data": {
      "text/plain": [
       "MERGED    421\n",
       "CLOSED     25\n",
       "OPEN        2\n",
       "Name: state, dtype: int64"
      ]
     },
     "execution_count": 7,
     "metadata": {},
     "output_type": "execute_result"
    }
   ],
   "source": [
    "df['state'].value_counts()"
   ]
  },
  {
   "cell_type": "code",
   "execution_count": 8,
   "id": "f67e7a07-ff8b-4be9-ba41-fa4258e08ac6",
   "metadata": {},
   "outputs": [],
   "source": [
    "df_json = df.to_json(orient='records')\n",
    "flatten_df = pd.json_normalize(json.loads(df_json), meta=['id'])"
   ]
  },
  {
   "cell_type": "markdown",
   "id": "569af303-94e4-43e0-8dda-4bbbfb895fa2",
   "metadata": {},
   "source": [
    "### Filter merged pull requests"
   ]
  },
  {
   "cell_type": "code",
   "execution_count": 9,
   "id": "0c410b2d-dfe6-4251-a4d2-41673c113206",
   "metadata": {},
   "outputs": [
    {
     "data": {
      "text/plain": [
       "421"
      ]
     },
     "execution_count": 9,
     "metadata": {},
     "output_type": "execute_result"
    }
   ],
   "source": [
    "len(flatten_df[flatten_df.merged])"
   ]
  },
  {
   "cell_type": "code",
   "execution_count": 10,
   "id": "bcb8ab1f-bddc-43fb-b6ba-b6c4bfb5f746",
   "metadata": {},
   "outputs": [],
   "source": [
    "df_merged = flatten_df[flatten_df.merged]"
   ]
  },
  {
   "cell_type": "code",
   "execution_count": 11,
   "id": "8cb29881-a89e-45a6-b92c-56da4b4a02f9",
   "metadata": {},
   "outputs": [
    {
     "data": {
      "text/html": [
       "<div>\n",
       "<style scoped>\n",
       "    .dataframe tbody tr th:only-of-type {\n",
       "        vertical-align: middle;\n",
       "    }\n",
       "\n",
       "    .dataframe tbody tr th {\n",
       "        vertical-align: top;\n",
       "    }\n",
       "\n",
       "    .dataframe thead th {\n",
       "        text-align: right;\n",
       "    }\n",
       "</style>\n",
       "<table border=\"1\" class=\"dataframe\">\n",
       "  <thead>\n",
       "    <tr style=\"text-align: right;\">\n",
       "      <th></th>\n",
       "      <th>id</th>\n",
       "      <th>number</th>\n",
       "      <th>title</th>\n",
       "      <th>state</th>\n",
       "      <th>isDraft</th>\n",
       "      <th>createdAt</th>\n",
       "      <th>merged</th>\n",
       "      <th>mergedAt</th>\n",
       "      <th>closed</th>\n",
       "      <th>closedAt</th>\n",
       "      <th>...</th>\n",
       "      <th>baseRefName</th>\n",
       "      <th>headRefName</th>\n",
       "      <th>commits.totalCount</th>\n",
       "      <th>author.login</th>\n",
       "      <th>comments.totalCount</th>\n",
       "      <th>comments.nodes</th>\n",
       "      <th>reviews.totalCount</th>\n",
       "      <th>reviews.nodes</th>\n",
       "      <th>reviewRequests.totalCount</th>\n",
       "      <th>reviewRequests.nodes</th>\n",
       "    </tr>\n",
       "  </thead>\n",
       "  <tbody>\n",
       "    <tr>\n",
       "      <th>0</th>\n",
       "      <td>MDExOlB1bGxSZXF1ZXN0NDY3MjQ1Mzgx</td>\n",
       "      <td>3</td>\n",
       "      <td>Added TS service with architecture API</td>\n",
       "      <td>MERGED</td>\n",
       "      <td>False</td>\n",
       "      <td>2020-08-13T08:52:04Z</td>\n",
       "      <td>True</td>\n",
       "      <td>2020-08-13T08:55:32Z</td>\n",
       "      <td>True</td>\n",
       "      <td>2020-08-13T08:55:32Z</td>\n",
       "      <td>...</td>\n",
       "      <td>master</td>\n",
       "      <td>ATLAS-1</td>\n",
       "      <td>2</td>\n",
       "      <td>Xavier-explore-dev</td>\n",
       "      <td>0</td>\n",
       "      <td>[]</td>\n",
       "      <td>0</td>\n",
       "      <td>[]</td>\n",
       "      <td>2</td>\n",
       "      <td>[{'requestedReviewer': {'__typename': 'User', ...</td>\n",
       "    </tr>\n",
       "    <tr>\n",
       "      <th>1</th>\n",
       "      <td>MDExOlB1bGxSZXF1ZXN0NDY3MjQ1Nzk2</td>\n",
       "      <td>4</td>\n",
       "      <td>Basic project overview: communication between ...</td>\n",
       "      <td>MERGED</td>\n",
       "      <td>False</td>\n",
       "      <td>2020-08-13T08:52:50Z</td>\n",
       "      <td>True</td>\n",
       "      <td>2020-08-13T08:55:01Z</td>\n",
       "      <td>True</td>\n",
       "      <td>2020-08-13T08:55:01Z</td>\n",
       "      <td>...</td>\n",
       "      <td>master</td>\n",
       "      <td>atlas-2</td>\n",
       "      <td>2</td>\n",
       "      <td>marcelosousa</td>\n",
       "      <td>0</td>\n",
       "      <td>[]</td>\n",
       "      <td>1</td>\n",
       "      <td>[{'createdAt': '2020-08-13T08:54:45Z', 'author...</td>\n",
       "      <td>0</td>\n",
       "      <td>[]</td>\n",
       "    </tr>\n",
       "    <tr>\n",
       "      <th>2</th>\n",
       "      <td>MDExOlB1bGxSZXF1ZXN0NDY3NDQ5ODk5</td>\n",
       "      <td>10</td>\n",
       "      <td>Adds orchestrator service</td>\n",
       "      <td>MERGED</td>\n",
       "      <td>False</td>\n",
       "      <td>2020-08-13T15:11:45Z</td>\n",
       "      <td>True</td>\n",
       "      <td>2020-08-14T13:35:18Z</td>\n",
       "      <td>True</td>\n",
       "      <td>2020-08-14T13:35:18Z</td>\n",
       "      <td>...</td>\n",
       "      <td>master</td>\n",
       "      <td>ATLAS-6</td>\n",
       "      <td>4</td>\n",
       "      <td>Xavier-explore-dev</td>\n",
       "      <td>0</td>\n",
       "      <td>[]</td>\n",
       "      <td>10</td>\n",
       "      <td>[{'createdAt': '2020-08-13T15:23:06Z', 'author...</td>\n",
       "      <td>1</td>\n",
       "      <td>[{'requestedReviewer': {'__typename': 'User', ...</td>\n",
       "    </tr>\n",
       "    <tr>\n",
       "      <th>3</th>\n",
       "      <td>MDExOlB1bGxSZXF1ZXN0NDY3NDUxMjQz</td>\n",
       "      <td>11</td>\n",
       "      <td>Architecture endpoint</td>\n",
       "      <td>MERGED</td>\n",
       "      <td>False</td>\n",
       "      <td>2020-08-13T15:13:37Z</td>\n",
       "      <td>True</td>\n",
       "      <td>2020-08-14T13:40:24Z</td>\n",
       "      <td>True</td>\n",
       "      <td>2020-08-14T13:40:24Z</td>\n",
       "      <td>...</td>\n",
       "      <td>master</td>\n",
       "      <td>ATLAS-5</td>\n",
       "      <td>8</td>\n",
       "      <td>Xavier-explore-dev</td>\n",
       "      <td>0</td>\n",
       "      <td>[]</td>\n",
       "      <td>0</td>\n",
       "      <td>[]</td>\n",
       "      <td>1</td>\n",
       "      <td>[{'requestedReviewer': {'__typename': 'User', ...</td>\n",
       "    </tr>\n",
       "    <tr>\n",
       "      <th>4</th>\n",
       "      <td>MDExOlB1bGxSZXF1ZXN0NDY3NDcwNDA1</td>\n",
       "      <td>12</td>\n",
       "      <td>Add basic data structures to Atlas core</td>\n",
       "      <td>MERGED</td>\n",
       "      <td>False</td>\n",
       "      <td>2020-08-13T15:45:26Z</td>\n",
       "      <td>True</td>\n",
       "      <td>2020-08-13T17:38:50Z</td>\n",
       "      <td>True</td>\n",
       "      <td>2020-08-13T17:38:51Z</td>\n",
       "      <td>...</td>\n",
       "      <td>master</td>\n",
       "      <td>ATLAS-7</td>\n",
       "      <td>5</td>\n",
       "      <td>ruimiguelsantos</td>\n",
       "      <td>0</td>\n",
       "      <td>[]</td>\n",
       "      <td>2</td>\n",
       "      <td>[{'createdAt': '2020-08-13T15:47:24Z', 'author...</td>\n",
       "      <td>0</td>\n",
       "      <td>[]</td>\n",
       "    </tr>\n",
       "  </tbody>\n",
       "</table>\n",
       "<p>5 rows × 24 columns</p>\n",
       "</div>"
      ],
      "text/plain": [
       "                                 id  number  \\\n",
       "0  MDExOlB1bGxSZXF1ZXN0NDY3MjQ1Mzgx       3   \n",
       "1  MDExOlB1bGxSZXF1ZXN0NDY3MjQ1Nzk2       4   \n",
       "2  MDExOlB1bGxSZXF1ZXN0NDY3NDQ5ODk5      10   \n",
       "3  MDExOlB1bGxSZXF1ZXN0NDY3NDUxMjQz      11   \n",
       "4  MDExOlB1bGxSZXF1ZXN0NDY3NDcwNDA1      12   \n",
       "\n",
       "                                               title   state  isDraft  \\\n",
       "0             Added TS service with architecture API  MERGED    False   \n",
       "1  Basic project overview: communication between ...  MERGED    False   \n",
       "2                          Adds orchestrator service  MERGED    False   \n",
       "3                              Architecture endpoint  MERGED    False   \n",
       "4            Add basic data structures to Atlas core  MERGED    False   \n",
       "\n",
       "              createdAt  merged              mergedAt  closed  \\\n",
       "0  2020-08-13T08:52:04Z    True  2020-08-13T08:55:32Z    True   \n",
       "1  2020-08-13T08:52:50Z    True  2020-08-13T08:55:01Z    True   \n",
       "2  2020-08-13T15:11:45Z    True  2020-08-14T13:35:18Z    True   \n",
       "3  2020-08-13T15:13:37Z    True  2020-08-14T13:40:24Z    True   \n",
       "4  2020-08-13T15:45:26Z    True  2020-08-13T17:38:50Z    True   \n",
       "\n",
       "               closedAt  ... baseRefName  headRefName  commits.totalCount  \\\n",
       "0  2020-08-13T08:55:32Z  ...      master      ATLAS-1                   2   \n",
       "1  2020-08-13T08:55:01Z  ...      master      atlas-2                   2   \n",
       "2  2020-08-14T13:35:18Z  ...      master      ATLAS-6                   4   \n",
       "3  2020-08-14T13:40:24Z  ...      master      ATLAS-5                   8   \n",
       "4  2020-08-13T17:38:51Z  ...      master      ATLAS-7                   5   \n",
       "\n",
       "         author.login comments.totalCount comments.nodes  reviews.totalCount  \\\n",
       "0  Xavier-explore-dev                   0             []                   0   \n",
       "1        marcelosousa                   0             []                   1   \n",
       "2  Xavier-explore-dev                   0             []                  10   \n",
       "3  Xavier-explore-dev                   0             []                   0   \n",
       "4     ruimiguelsantos                   0             []                   2   \n",
       "\n",
       "                                       reviews.nodes  \\\n",
       "0                                                 []   \n",
       "1  [{'createdAt': '2020-08-13T08:54:45Z', 'author...   \n",
       "2  [{'createdAt': '2020-08-13T15:23:06Z', 'author...   \n",
       "3                                                 []   \n",
       "4  [{'createdAt': '2020-08-13T15:47:24Z', 'author...   \n",
       "\n",
       "   reviewRequests.totalCount  \\\n",
       "0                          2   \n",
       "1                          0   \n",
       "2                          1   \n",
       "3                          1   \n",
       "4                          0   \n",
       "\n",
       "                                reviewRequests.nodes  \n",
       "0  [{'requestedReviewer': {'__typename': 'User', ...  \n",
       "1                                                 []  \n",
       "2  [{'requestedReviewer': {'__typename': 'User', ...  \n",
       "3  [{'requestedReviewer': {'__typename': 'User', ...  \n",
       "4                                                 []  \n",
       "\n",
       "[5 rows x 24 columns]"
      ]
     },
     "execution_count": 11,
     "metadata": {},
     "output_type": "execute_result"
    }
   ],
   "source": [
    "df_merged.head()"
   ]
  },
  {
   "cell_type": "markdown",
   "id": "0d19555e-b0ca-4f3d-b8df-4b97fd8f5da9",
   "metadata": {},
   "source": [
    "# Profiling"
   ]
  },
  {
   "cell_type": "markdown",
   "id": "e671109a-5603-49a7-bc47-4cb947792c0b",
   "metadata": {},
   "source": [
    "### Pull Request author distribution"
   ]
  },
  {
   "cell_type": "code",
   "execution_count": 12,
   "id": "f4a176a2-ce8e-40d1-bdba-ed461b4c9f27",
   "metadata": {},
   "outputs": [
    {
     "data": {
      "text/plain": [
       "Xavier-explore-dev    205\n",
       "marcelosousa          115\n",
       "ruimiguelsantos        81\n",
       "arcmarqs                7\n",
       "explore-dev-team        7\n",
       "WillGAndre              5\n",
       "ferreiratiago           1\n",
       "Name: author.login, dtype: int64"
      ]
     },
     "execution_count": 12,
     "metadata": {},
     "output_type": "execute_result"
    }
   ],
   "source": [
    "df_merged['author.login'].value_counts()"
   ]
  },
  {
   "cell_type": "markdown",
   "id": "5e3ebbfb-5508-4c73-83c7-ab9f17548ed8",
   "metadata": {},
   "source": [
    "## Time to merge"
   ]
  },
  {
   "cell_type": "code",
   "execution_count": 14,
   "id": "06646566-cf4b-4c6e-9748-157c3f4f6fdb",
   "metadata": {},
   "outputs": [],
   "source": [
    "df_merged.loc[:,'mergedAt'] = pd.to_datetime(df_merged.loc[:,'mergedAt'], infer_datetime_format=True)\n",
    "df_merged.loc[:,'createdAt'] = pd.to_datetime(df_merged.loc[:,'createdAt'], infer_datetime_format=True)\n",
    "df_merged.loc[:,'time_to_merge_hours'] = (df_merged.mergedAt - df_merged.createdAt) / pd.Timedelta(hours=1)\n",
    "df_merged.loc[:,'log_time_to_merge_days'] = np.log2((df_merged.mergedAt - df_merged.createdAt) / pd.Timedelta(days=1))\n",
    "df_merged.loc[:,'timeToMergeRank'] = df_merged.loc[:,'time_to_merge_hours'].rank(method='min', pct=True)"
   ]
  },
  {
   "cell_type": "code",
   "execution_count": 15,
   "id": "8b1643c7-ae83-48b2-b622-4e4e0f9e0313",
   "metadata": {},
   "outputs": [
    {
     "data": {
      "text/plain": [
       "0.10       0.265278\n",
       "0.20       0.766944\n",
       "0.30       1.722778\n",
       "0.40       3.966944\n",
       "0.50      14.173611\n",
       "0.60      19.033611\n",
       "0.70      25.641667\n",
       "0.80      70.243333\n",
       "0.90     169.412778\n",
       "0.95     313.525000\n",
       "0.99     647.485000\n",
       "1.00    2038.384444\n",
       "Name: time_to_merge_hours, dtype: float64"
      ]
     },
     "execution_count": 15,
     "metadata": {},
     "output_type": "execute_result"
    }
   ],
   "source": [
    "df_merged['time_to_merge_hours'].quantile([0.1, 0.2, 0.3, 0.4, 0.5, 0.6, 0.7, 0.8, 0.9, 0.95, 0.99, 1])"
   ]
  },
  {
   "cell_type": "markdown",
   "id": "11533971-c92f-438c-bd85-4d8ff40521c9",
   "metadata": {},
   "source": [
    "### Explanation: \n",
    "- As the previous table shows, 50% of the merged pull requests are merged in 14 hours. \n",
    "- The 80% mark is at the 70 hours.\n",
    "- The average wouldn't be meaningful because the distribution is very skewed."
   ]
  },
  {
   "cell_type": "markdown",
   "id": "0bc8af8d-23c5-4f3c-8edd-700057f3d87f",
   "metadata": {},
   "source": [
    "### Plot of time to merge over the last year"
   ]
  },
  {
   "cell_type": "code",
   "execution_count": 16,
   "id": "047b458f-278d-46b8-9d73-249312b5707c",
   "metadata": {},
   "outputs": [
    {
     "data": {
      "image/png": "[encoded data removed]",
      "text/plain": [
       "<Figure size 864x576 with 1 Axes>"
      ]
     },
     "metadata": {
      "needs_background": "light"
     },
     "output_type": "display_data"
    }
   ],
   "source": [
    "df_merged.plot.scatter(x='createdAt', y='timeToMergeRank', title= \"Scatter plot between created at time and time to merge\", color='LightBlue', label='atlas');\n",
    "plt.plot([df_merged['createdAt'].min(), df_merged['createdAt'].max()], [0.5, 0.5], color = 'r')\n",
    "plt.show(block=True);"
   ]
  },
  {
   "cell_type": "markdown",
   "id": "b4f6a3b4-5fe4-44fd-a63f-95daeb346436",
   "metadata": {},
   "source": [
    "### Explanation:\n",
    "- Each dot in the graph is a pull request\n",
    "- Dots that are very close to 0 probably mean pull requests that didn't have reviews (their time to merge was very low compared to the rest)\n",
    "- As time progresses, the time to merge should be going down or closer to the red line (which is the 50% percentile)\n",
    "- One criticism of this graph is that because the time to merge rank is computed based on all the data, if suddenly there were 50 pull requests with a low time to merge, this could potentially push other pull requests to a higher percentile. In other words, this graph is dynamic in that a position of a pull request in the time to time rank will change with more data."
   ]
  },
  {
   "cell_type": "markdown",
   "id": "eeafaad4-8d66-4247-b455-2307edd6a1ed",
   "metadata": {},
   "source": [
    "### Number of pull requests created per month"
   ]
  },
  {
   "cell_type": "code",
   "execution_count": 17,
   "id": "67c9d870-84de-4468-b771-e7186d1f6a16",
   "metadata": {},
   "outputs": [
    {
     "data": {
      "image/png": "[encoded data removed]",
      "text/plain": [
       "<Figure size 864x576 with 1 Axes>"
      ]
     },
     "metadata": {
      "needs_background": "light"
     },
     "output_type": "display_data"
    }
   ],
   "source": [
    "ax = sns.countplot(x=df_merged['createdAt'].dt.to_period('M'), data=df_merged)"
   ]
  },
  {
   "cell_type": "markdown",
   "id": "f99619b5-859a-45d0-a972-c3431a738de9",
   "metadata": {},
   "source": [
    "### Distribution of pull requests per author and month"
   ]
  },
  {
   "cell_type": "code",
   "execution_count": 18,
   "id": "48f8e4b6-79d8-4495-a053-eb2cec29789d",
   "metadata": {},
   "outputs": [
    {
     "data": {
      "image/png": "[encoded data removed]",
      "text/plain": [
       "<Figure size 864x576 with 1 Axes>"
      ]
     },
     "metadata": {
      "needs_background": "light"
     },
     "output_type": "display_data"
    }
   ],
   "source": [
    "ax = sns.countplot(x=df_merged['createdAt'].dt.to_period('M'), hue='author.login', data=df_merged)"
   ]
  },
  {
   "cell_type": "markdown",
   "id": "6d959639-487f-404f-95b0-e885987db181",
   "metadata": {},
   "source": [
    "### Histogram of reviews"
   ]
  },
  {
   "cell_type": "code",
   "execution_count": 19,
   "id": "dc7a5012-f9f3-4e0e-8e4b-968a201052b6",
   "metadata": {},
   "outputs": [
    {
     "data": {
      "image/png": "[encoded data removed]",
      "text/plain": [
       "<Figure size 864x576 with 1 Axes>"
      ]
     },
     "metadata": {
      "needs_background": "light"
     },
     "output_type": "display_data"
    }
   ],
   "source": [
    "ax = sns.countplot(x=df_merged['reviews.totalCount'], data=df_merged)"
   ]
  },
  {
   "cell_type": "code",
   "execution_count": 20,
   "id": "83a105cd-4393-4a94-8c58-79292a22eaad",
   "metadata": {},
   "outputs": [
    {
     "data": {
      "text/plain": [
       "1     215\n",
       "0      61\n",
       "2      53\n",
       "3      36\n",
       "4      19\n",
       "5      13\n",
       "6       8\n",
       "8       4\n",
       "11      3\n",
       "7       2\n",
       "9       1\n",
       "10      1\n",
       "13      1\n",
       "14      1\n",
       "20      1\n",
       "23      1\n",
       "31      1\n",
       "Name: reviews.totalCount, dtype: int64"
      ]
     },
     "execution_count": 20,
     "metadata": {},
     "output_type": "execute_result"
    }
   ],
   "source": [
    "df_merged['reviews.totalCount'].value_counts()"
   ]
  },
  {
   "cell_type": "markdown",
   "id": "fbf0d821-7dae-4b90-9d38-e41d9a6c14b8",
   "metadata": {},
   "source": [
    "### Histogram of review requests"
   ]
  },
  {
   "cell_type": "code",
   "execution_count": 21,
   "id": "d0eda395-669c-4e6c-a878-2825cfd19296",
   "metadata": {},
   "outputs": [
    {
     "data": {
      "image/png": "[encoded data removed]",
      "text/plain": [
       "<Figure size 864x576 with 1 Axes>"
      ]
     },
     "metadata": {
      "needs_background": "light"
     },
     "output_type": "display_data"
    }
   ],
   "source": [
    "ax = sns.countplot(x=df_merged['reviewRequests.totalCount'], data=df_merged)"
   ]
  },
  {
   "cell_type": "markdown",
   "id": "696c98b1-fe3f-4c47-91b9-c1053fd080ac",
   "metadata": {},
   "source": [
    "# Review comment activity"
   ]
  },
  {
   "cell_type": "code",
   "execution_count": 22,
   "id": "42712c7c-31ef-4946-857a-ff3b363bbc99",
   "metadata": {},
   "outputs": [],
   "source": [
    "def getTotalComments(row):\n",
    "    totalCount = 0\n",
    "    for review in row:\n",
    "        totalCount += review['comments']['totalCount']\n",
    "    return totalCount"
   ]
  },
  {
   "cell_type": "code",
   "execution_count": 24,
   "id": "2ce188cf-5878-4329-a35a-952c1a6b574b",
   "metadata": {},
   "outputs": [],
   "source": [
    "df_merged.loc[:,'totalReviewComments'] = df_merged['reviews.nodes'].map(getTotalComments)\n",
    "df_merged.loc[:,'totalActivity'] = df_merged.totalReviewComments + df_merged.loc[:,'comments.totalCount'] + df_merged.loc[:,'reviews.totalCount']\n",
    "df_merged.loc[:,'totalReviewCommentsRank'] = df_merged.loc[:,'totalReviewComments'].rank(method='min',pct=True)\n",
    "df_merged.loc[:,'totalActivityRank'] = df_merged.loc[:,'totalActivity'].rank(method='min',pct=True)"
   ]
  },
  {
   "cell_type": "code",
   "execution_count": 25,
   "id": "093a2846-7774-4df0-ac54-3a7de74faab4",
   "metadata": {},
   "outputs": [],
   "source": [
    "middle_date = df_merged['createdAt'].min() + (df_merged['createdAt'].max() - df_merged['createdAt'].min())/2"
   ]
  },
  {
   "cell_type": "code",
   "execution_count": 26,
   "id": "fd243801-3371-4c30-aaa2-1b5e649b1bd3",
   "metadata": {},
   "outputs": [
    {
     "data": {
      "image/png": "[encoded data removed]",
      "text/plain": [
       "<Figure size 864x576 with 1 Axes>"
      ]
     },
     "metadata": {
      "needs_background": "light"
     },
     "output_type": "display_data"
    }
   ],
   "source": [
    "ax = df_merged.plot.scatter(x='createdAt', y='totalActivityRank', title= \"Scatter plot between created at time and review activity\", color='red', label='comments');\n",
    "df_merged.plot.scatter(x='createdAt', y='timeToMergeRank', color='Black', ax=ax, label='time');\n",
    "plt.plot([df_merged['createdAt'].min(), df_merged['createdAt'].max()], [0.5, 0.5], color = 'grey')\n",
    "plt.plot([middle_date, middle_date], [0, 1], color = 'grey')\n",
    "plt.show(block=True);"
   ]
  },
  {
   "cell_type": "markdown",
   "id": "152b3cae-91b5-4750-ae9d-2dda92f58e56",
   "metadata": {},
   "source": [
    "## Explanation:\n",
    "- The graph above shows both the rank of the time to merge (in black) and the review activity, number of comments made in a pull request, (in red) for each pull request.\n",
    "- The graph itself is hard to understand because each pull request is represented by a red and black dot. For example for the pull request 50, it's hard to know which is the red and black dots so it's hard to compare them. This why below we do a month by month comparison."
   ]
  },
  {
   "cell_type": "code",
   "execution_count": 27,
   "id": "fa0bbb23-2324-4d64-ac61-281df848f292",
   "metadata": {},
   "outputs": [],
   "source": [
    "df_merged_july = df_merged[(df_merged.createdAt >= '2021-07-01') & (df_merged.createdAt < '2021-08-01')]"
   ]
  },
  {
   "cell_type": "code",
   "execution_count": 28,
   "id": "2d1fc42f-be68-4a38-887c-20b38ff65e81",
   "metadata": {},
   "outputs": [],
   "source": [
    "df_merged_june = df_merged[(df_merged.createdAt >= '2021-06-01') & (df_merged.createdAt < '2021-07-01')]"
   ]
  },
  {
   "cell_type": "code",
   "execution_count": 29,
   "id": "7a92d861-d83e-44d7-a0f3-1fe22d8f9261",
   "metadata": {},
   "outputs": [
    {
     "data": {
      "image/png": "[encoded data removed]",
      "text/plain": [
       "<Figure size 864x576 with 1 Axes>"
      ]
     },
     "metadata": {
      "needs_background": "light"
     },
     "output_type": "display_data"
    }
   ],
   "source": [
    "ax = df_merged_june.plot.scatter(x='timeToMergeRank', y='totalActivityRank', title= \"Scatter plot between time to merge and review activity\", color='LightBlue', label='june');\n",
    "df_merged_july.plot.scatter(x='timeToMergeRank', y='totalActivityRank', color='Black', ax=ax, label='july');\n",
    "plt.plot([0, 1], [0.5, 0.5], color = 'grey')\n",
    "plt.plot([0.5, 0.5], [0, 1], color = 'grey')\n",
    "plt.show(block=True);"
   ]
  },
  {
   "cell_type": "markdown",
   "id": "667da253-6a9d-4a79-b66c-19ced81c0d32",
   "metadata": {},
   "source": [
    "### Analysis:\n",
    "- In this plot we can see a comparison between the review activity in number of comments and the time to merge.\n",
    "- Below we check what is the progression from june to july. In particular, how the PRs are evolving in the quadrants."
   ]
  },
  {
   "cell_type": "code",
   "execution_count": 30,
   "id": "114c538b-fe39-41bc-ac4b-5652d5434dd9",
   "metadata": {},
   "outputs": [
    {
     "data": {
      "text/plain": [
       "[52, 41]"
      ]
     },
     "execution_count": 30,
     "metadata": {},
     "output_type": "execute_result"
    }
   ],
   "source": [
    "[len(df_merged_june), len(df_merged_july)]"
   ]
  },
  {
   "cell_type": "code",
   "execution_count": 31,
   "id": "01419108-d7fe-46f5-bcd0-eecc9dbe6d92",
   "metadata": {},
   "outputs": [],
   "source": [
    "q1_june = df_merged_june[(df_merged_june.timeToMergeRank <= 0.5) & (df_merged_june.totalActivityRank <= 0.5)]\n",
    "q2_june = df_merged_june[(df_merged_june.timeToMergeRank <= 0.5) & (df_merged_june.totalActivityRank > 0.5)]\n",
    "q3_june = df_merged_june[(df_merged_june.timeToMergeRank > 0.5) & (df_merged_june.totalActivityRank > 0.5)]\n",
    "q4_june = df_merged_june[(df_merged_june.timeToMergeRank > 0.5) & (df_merged_june.totalActivityRank <= 0.5)]\n",
    "qs_june = pd.Series([len(q1_june), len(q2_june), len(q3_june), len(q4_june)])"
   ]
  },
  {
   "cell_type": "code",
   "execution_count": 32,
   "id": "089892e4-9713-4511-9fb2-0bc39a00fd27",
   "metadata": {},
   "outputs": [
    {
     "data": {
      "text/plain": [
       "[19, 13, 13, 7]"
      ]
     },
     "execution_count": 32,
     "metadata": {},
     "output_type": "execute_result"
    }
   ],
   "source": [
    "[len(q1_june), len(q2_june), len(q3_june), len(q4_june)]"
   ]
  },
  {
   "cell_type": "code",
   "execution_count": 33,
   "id": "0b622a93-da2e-4e38-992e-94ad7103f8f9",
   "metadata": {},
   "outputs": [
    {
     "data": {
      "text/plain": [
       "0    0.365385\n",
       "1    0.250000\n",
       "2    0.250000\n",
       "3    0.134615\n",
       "dtype: float64"
      ]
     },
     "execution_count": 33,
     "metadata": {},
     "output_type": "execute_result"
    }
   ],
   "source": [
    "qs_june / len(df_merged_june)"
   ]
  },
  {
   "cell_type": "code",
   "execution_count": 34,
   "id": "70be5012-e31b-4bc6-85f3-1ae54b0ccc93",
   "metadata": {},
   "outputs": [],
   "source": [
    "q1_july = df_merged_july[(df_merged_july.timeToMergeRank <= 0.5) & (df_merged_july.totalActivityRank <= 0.5)]\n",
    "q2_july = df_merged_july[(df_merged_july.timeToMergeRank <= 0.5) & (df_merged_july.totalActivityRank > 0.5)]\n",
    "q3_july = df_merged_july[(df_merged_july.timeToMergeRank > 0.5) & (df_merged_july.totalActivityRank > 0.5)]\n",
    "q4_july = df_merged_july[(df_merged_july.timeToMergeRank > 0.5) & (df_merged_july.totalActivityRank <= 0.5)]\n",
    "qs_july = pd.Series([len(q1_july), len(q2_july), len(q3_july), len(q4_july)])"
   ]
  },
  {
   "cell_type": "code",
   "execution_count": 35,
   "id": "d27043e0-9daf-40c0-9297-31e0e85dc5e5",
   "metadata": {},
   "outputs": [
    {
     "data": {
      "text/plain": [
       "[14, 14, 7, 6]"
      ]
     },
     "execution_count": 35,
     "metadata": {},
     "output_type": "execute_result"
    }
   ],
   "source": [
    "[len(q1_july), len(q2_july), len(q3_july), len(q4_july)]"
   ]
  },
  {
   "cell_type": "code",
   "execution_count": 36,
   "id": "a89e6bcc-0e71-41b4-977e-16028138c8dd",
   "metadata": {},
   "outputs": [
    {
     "data": {
      "text/plain": [
       "0    0.341463\n",
       "1    0.341463\n",
       "2    0.170732\n",
       "3    0.146341\n",
       "dtype: float64"
      ]
     },
     "execution_count": 36,
     "metadata": {},
     "output_type": "execute_result"
    }
   ],
   "source": [
    "qs_july / len(df_merged_july)"
   ]
  },
  {
   "cell_type": "code",
   "execution_count": 37,
   "id": "198fbcd3-3640-4bce-af33-3d23da642908",
   "metadata": {},
   "outputs": [
    {
     "data": {
      "text/plain": [
       "0   -0.023921\n",
       "1    0.091463\n",
       "2   -0.079268\n",
       "3    0.011726\n",
       "dtype: float64"
      ]
     },
     "execution_count": 37,
     "metadata": {},
     "output_type": "execute_result"
    }
   ],
   "source": [
    "(qs_july / len(df_merged_july)) - (qs_june / len(df_merged_june))"
   ]
  },
  {
   "cell_type": "markdown",
   "id": "25b5fbdc-9b94-49af-af6f-f4913b3f0212",
   "metadata": {},
   "source": [
    "### Analysis:\n",
    "- It is the table above that tells us how the team is evolving. We see that PRs are decreasing in Q1 and Q3 and increasing in Q2 and Q4. \n",
    "- One of the issues with this analysis is that it considers only the review activity in terms of number of comments.\n",
    "- We improve on this by defining the \"engagement\" as the review activity per 100 lines of code changed in the final diff of the PR."
   ]
  },
  {
   "cell_type": "code",
   "execution_count": 38,
   "id": "9a9ab2eb-173e-45d1-9414-09807efaa0a7",
   "metadata": {},
   "outputs": [
    {
     "data": {
      "text/plain": [
       "0.10     0.0\n",
       "0.20     1.0\n",
       "0.30     1.0\n",
       "0.40     1.0\n",
       "0.50     1.0\n",
       "0.60     2.0\n",
       "0.70     2.0\n",
       "0.80     5.0\n",
       "0.90     9.0\n",
       "0.95    15.0\n",
       "0.99    39.6\n",
       "1.00    89.0\n",
       "Name: totalActivity, dtype: float64"
      ]
     },
     "execution_count": 38,
     "metadata": {},
     "output_type": "execute_result"
    }
   ],
   "source": [
    "df_merged['totalActivity'].quantile([0.1, 0.2, 0.3, 0.4, 0.5, 0.6, 0.7, 0.8, 0.9, 0.95, 0.99, 1])"
   ]
  },
  {
   "cell_type": "code",
   "execution_count": 39,
   "id": "d68622fc-00b0-4e15-8c69-17f9991b3156",
   "metadata": {},
   "outputs": [
    {
     "data": {
      "text/plain": [
       "0.10     0.0\n",
       "0.20     0.0\n",
       "0.30     0.0\n",
       "0.40     0.0\n",
       "0.50     0.0\n",
       "0.60     0.0\n",
       "0.70     0.0\n",
       "0.80     2.0\n",
       "0.90     4.0\n",
       "0.95     8.0\n",
       "0.99    27.8\n",
       "1.00    66.0\n",
       "Name: totalReviewComments, dtype: float64"
      ]
     },
     "execution_count": 39,
     "metadata": {},
     "output_type": "execute_result"
    }
   ],
   "source": [
    "df_merged['totalReviewComments'].quantile([0.1, 0.2, 0.3, 0.4, 0.5, 0.6, 0.7, 0.8, 0.9, 0.95, 0.99, 1])"
   ]
  },
  {
   "cell_type": "code",
   "execution_count": 40,
   "id": "7fb0640f-55ab-4c53-b6a4-00e71a90e87e",
   "metadata": {},
   "outputs": [
    {
     "data": {
      "text/plain": [
       "0.10    0.0\n",
       "0.20    0.0\n",
       "0.30    0.0\n",
       "0.40    0.0\n",
       "0.50    0.0\n",
       "0.60    0.0\n",
       "0.70    0.0\n",
       "0.80    0.0\n",
       "0.90    0.0\n",
       "0.95    1.0\n",
       "0.99    2.0\n",
       "1.00    3.0\n",
       "Name: comments.totalCount, dtype: float64"
      ]
     },
     "execution_count": 40,
     "metadata": {},
     "output_type": "execute_result"
    }
   ],
   "source": [
    "df_merged['comments.totalCount'].quantile([0.1, 0.2, 0.3, 0.4, 0.5, 0.6, 0.7, 0.8, 0.9, 0.95, 0.99, 1])"
   ]
  },
  {
   "cell_type": "code",
   "execution_count": 41,
   "id": "6728804f-84b6-4cdb-be33-a8c6bca665a9",
   "metadata": {},
   "outputs": [
    {
     "data": {
      "text/plain": [
       "0.10     0.0\n",
       "0.20     1.0\n",
       "0.30     1.0\n",
       "0.40     1.0\n",
       "0.50     1.0\n",
       "0.60     1.0\n",
       "0.70     2.0\n",
       "0.80     3.0\n",
       "0.90     4.0\n",
       "0.95     6.0\n",
       "0.99    12.6\n",
       "1.00    31.0\n",
       "Name: reviews.totalCount, dtype: float64"
      ]
     },
     "execution_count": 41,
     "metadata": {},
     "output_type": "execute_result"
    }
   ],
   "source": [
    "df_merged['reviews.totalCount'].quantile([0.1, 0.2, 0.3, 0.4, 0.5, 0.6, 0.7, 0.8, 0.9, 0.95, 0.99, 1])"
   ]
  },
  {
   "cell_type": "markdown",
   "id": "e79ec3ba-26f7-47a6-9615-df69c1da04a5",
   "metadata": {},
   "source": [
    "### Analysis:\n",
    "- As you can see from the tables above, our reviews do not have that much activity.\n",
    "- 80% of them do not have review comments in the diff\n",
    "- At least 10% of them are merged without reviews at all \n",
    "- 90% of them do have comments around their intention\n",
    "- In summary, a lot to improve."
   ]
  },
  {
   "cell_type": "markdown",
   "id": "7000eb98-df52-43dc-80b4-ac5618f3b61b",
   "metadata": {},
   "source": [
    "## Engagement as a measure of activity per 100 LOC"
   ]
  },
  {
   "cell_type": "code",
   "execution_count": 43,
   "id": "4da183ed-a711-423e-8145-1da75668efb5",
   "metadata": {},
   "outputs": [],
   "source": [
    "df_merged.loc[:,'engagement'] = df_merged.totalActivity / ((df_merged.additions + df_merged.deletions) / 100)\n",
    "df_merged.loc[:,'engagementRank'] = df_merged.loc[:,'engagement'].rank(method='min', pct=True)\n",
    "df_merged.loc[:,'engagementOnAdditions'] = df_merged.totalActivity / (df_merged.additions / 100)\n",
    "df_merged.loc[:,'engagementOnAdditionsRank'] = df_merged.loc[:,'engagementOnAdditions'].rank(method='min', pct=True)"
   ]
  },
  {
   "cell_type": "code",
   "execution_count": 44,
   "id": "f551e340-52e4-476c-824b-76b1e9a7c77b",
   "metadata": {},
   "outputs": [
    {
     "data": {
      "image/png": "[encoded data removed]",
      "text/plain": [
       "<Figure size 864x576 with 1 Axes>"
      ]
     },
     "metadata": {
      "needs_background": "light"
     },
     "output_type": "display_data"
    }
   ],
   "source": [
    "df_merged.plot.scatter(x='timeToMergeRank', y='engagementRank', title= \"Scatter plot between time to merge and engagement\", color='LightBlue', label='atlas');\n",
    "plt.plot([0, 1], [0.5, 0.5], color = 'grey')\n",
    "plt.plot([0.5, 0.5], [0, 1], color = 'grey')\n",
    "plt.show(block=True);"
   ]
  },
  {
   "cell_type": "markdown",
   "id": "41cc759b-04ac-4b1b-a361-20ec8dfab81d",
   "metadata": {},
   "source": [
    "## Explanation:\n",
    "- This is the plot that compares engagement with time to merge on all code reviews.\n",
    "- The missing information is what are the times for these %s in the axis - for example 0.8 on the time to merge is ~70 hours.\n",
    "- As before the major problem with this plot is that it doesn't show how team is evolving over time. To do that, we compare month by month below."
   ]
  },
  {
   "cell_type": "code",
   "execution_count": 45,
   "id": "f6261033-9f02-4459-bd59-d025b1214361",
   "metadata": {},
   "outputs": [
    {
     "data": {
      "image/png": "[encoded data removed]",
      "text/plain": [
       "<Figure size 864x576 with 1 Axes>"
      ]
     },
     "metadata": {
      "needs_background": "light"
     },
     "output_type": "display_data"
    }
   ],
   "source": [
    "df_merged_july = df_merged[(df_merged.createdAt >= '2021-07-01') & (df_merged.createdAt < '2021-08-01')]\n",
    "df_merged_june = df_merged[(df_merged.createdAt >= '2021-06-01') & (df_merged.createdAt < '2021-07-01')]\n",
    "ax = df_merged_june.plot.scatter(x='timeToMergeRank', y='engagementRank', title= \"Scatter plot between time to merge and engagement\", color='LightBlue', label='june');\n",
    "df_merged_july.plot.scatter(x='timeToMergeRank', y='engagementRank', color='Black', ax=ax, label='july');\n",
    "plt.plot([0, 1], [0.5, 0.5], color = 'grey')\n",
    "plt.plot([0.5, 0.5], [0, 1], color = 'grey')\n",
    "plt.show(block=True);"
   ]
  },
  {
   "cell_type": "markdown",
   "id": "50a82491-7648-473c-aefb-54fc1183ac60",
   "metadata": {},
   "source": [
    "## Explanation:\n",
    "- Here's a comparison of the profile of a team for their pull requests and reviews over two months (June and July).\n",
    "- As the analysis below will show, the team is evolving in a positive rate PRs are evolving to the quadrant Q2 (top left) that means that engagement is increasing and time to merge is decreasing."
   ]
  },
  {
   "cell_type": "code",
   "execution_count": 46,
   "id": "3a1ba0d4-f9e6-4049-928d-a110ada58c2f",
   "metadata": {},
   "outputs": [],
   "source": [
    "q1_june = df_merged_june[(df_merged_june.timeToMergeRank <= 0.5) & (df_merged_june.engagementRank <= 0.5)]\n",
    "q2_june = df_merged_june[(df_merged_june.timeToMergeRank <= 0.5) & (df_merged_june.engagementRank > 0.5)]\n",
    "q3_june = df_merged_june[(df_merged_june.timeToMergeRank > 0.5) & (df_merged_june.engagementRank > 0.5)]\n",
    "q4_june = df_merged_june[(df_merged_june.timeToMergeRank > 0.5) & (df_merged_june.engagementRank <= 0.5)]\n",
    "qs_june = pd.Series([len(q1_june), len(q2_june), len(q3_june), len(q4_june)])"
   ]
  },
  {
   "cell_type": "code",
   "execution_count": 47,
   "id": "c19098a8-fad0-4abf-a389-e2d7f7cd7630",
   "metadata": {},
   "outputs": [
    {
     "data": {
      "text/plain": [
       "[9, 23, 7, 13]"
      ]
     },
     "execution_count": 47,
     "metadata": {},
     "output_type": "execute_result"
    }
   ],
   "source": [
    "[len(q1_june), len(q2_june), len(q3_june), len(q4_june)]"
   ]
  },
  {
   "cell_type": "code",
   "execution_count": 48,
   "id": "c321da0d-7f30-4ad7-9b19-b02fcd1009f0",
   "metadata": {},
   "outputs": [
    {
     "data": {
      "text/plain": [
       "0    0.173077\n",
       "1    0.442308\n",
       "2    0.134615\n",
       "3    0.250000\n",
       "dtype: float64"
      ]
     },
     "execution_count": 48,
     "metadata": {},
     "output_type": "execute_result"
    }
   ],
   "source": [
    "qs_june / len(df_merged_june)"
   ]
  },
  {
   "cell_type": "code",
   "execution_count": 49,
   "id": "ed4949db-28a5-4272-914f-7dfb6692914f",
   "metadata": {},
   "outputs": [],
   "source": [
    "q1_july = df_merged_july[(df_merged_july.timeToMergeRank <= 0.5) & (df_merged_july.engagementRank <= 0.5)]\n",
    "q2_july = df_merged_july[(df_merged_july.timeToMergeRank <= 0.5) & (df_merged_july.engagementRank > 0.5)]\n",
    "q3_july = df_merged_july[(df_merged_july.timeToMergeRank > 0.5) & (df_merged_july.engagementRank > 0.5)]\n",
    "q4_july = df_merged_july[(df_merged_july.timeToMergeRank > 0.5) & (df_merged_july.engagementRank <= 0.5)]\n",
    "qs_july = pd.Series([len(q1_july), len(q2_july), len(q3_july), len(q4_july)])"
   ]
  },
  {
   "cell_type": "code",
   "execution_count": 50,
   "id": "7d87e0b1-a7e1-4643-829b-41e9ea0b6236",
   "metadata": {},
   "outputs": [
    {
     "data": {
      "text/plain": [
       "[6, 22, 5, 8]"
      ]
     },
     "execution_count": 50,
     "metadata": {},
     "output_type": "execute_result"
    }
   ],
   "source": [
    "[len(q1_july), len(q2_july), len(q3_july), len(q4_july)]"
   ]
  },
  {
   "cell_type": "code",
   "execution_count": 51,
   "id": "04722512-3047-4d1d-9fb9-35e6d5a354cc",
   "metadata": {},
   "outputs": [
    {
     "data": {
      "text/plain": [
       "0    0.146341\n",
       "1    0.536585\n",
       "2    0.121951\n",
       "3    0.195122\n",
       "dtype: float64"
      ]
     },
     "execution_count": 51,
     "metadata": {},
     "output_type": "execute_result"
    }
   ],
   "source": [
    "qs_july / len(df_merged_july)"
   ]
  },
  {
   "cell_type": "code",
   "execution_count": 52,
   "id": "52bf0b49-2634-4a7d-97bd-8fcfb2cf933a",
   "metadata": {},
   "outputs": [
    {
     "data": {
      "text/plain": [
       "0   -0.026735\n",
       "1    0.094278\n",
       "2   -0.012664\n",
       "3   -0.054878\n",
       "dtype: float64"
      ]
     },
     "execution_count": 52,
     "metadata": {},
     "output_type": "execute_result"
    }
   ],
   "source": [
    "(qs_july / len(df_merged_july)) - (qs_june / len(df_merged_june))"
   ]
  },
  {
   "cell_type": "code",
   "execution_count": null,
   "id": "5db4f099-2da5-4be2-929d-b805fbdcaf69",
   "metadata": {},
   "outputs": [],
   "source": []
  }
 ],
 "metadata": {
  "kernelspec": {
   "display_name": "Python 3",
   "language": "python",
   "name": "python3"
  },
  "language_info": {
   "codemirror_mode": {
    "name": "ipython",
    "version": 3
   },
   "file_extension": ".py",
   "mimetype": "text/x-python",
   "name": "python",
   "nbconvert_exporter": "python",
   "pygments_lexer": "ipython3",
   "version": "3.7.3"
  }
 },
 "nbformat": 4,
 "nbformat_minor": 5
}
